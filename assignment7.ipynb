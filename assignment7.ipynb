{
 "cells": [
  {
   "cell_type": "markdown",
   "metadata": {},
   "source": [
    "This code performs data-cleaning of HR dataset.\n",
    "\n",
    "## Instructions\n",
    "\n",
    "1. **Read the data:** read the data from \"HR_5000 Records.csv\" using pandas library.\n",
    "\n",
    "2. **Create a subset-data frame** Create a new data frame that only includes \"Emp ID, first name, last name, gender and email\". \n",
    "\n",
    "3. **Data Engineering:** Use Lambda function to create a new column called \"domain\". \n",
    "\n",
    "4. **Data Visualization:** Use bar-chart to display the distribution of the domain in the given HR dataset."
   ]
  },
  {
   "cell_type": "code",
   "execution_count": null,
   "metadata": {},
   "outputs": [],
   "source": [
    "import pandas as pd\n",
    "\n",
    "\n",
    "df = pd.read_csv(\"./data/HR_5000 Records.csv\")\n",
    "\n",
    "\n"
   ]
  }
 ],
 "metadata": {
  "kernelspec": {
   "display_name": ".venv",
   "language": "python",
   "name": "python3"
  },
  "language_info": {
   "codemirror_mode": {
    "name": "ipython",
    "version": 3
   },
   "file_extension": ".py",
   "mimetype": "text/x-python",
   "name": "python",
   "nbconvert_exporter": "python",
   "pygments_lexer": "ipython3",
   "version": "3.11.9"
  }
 },
 "nbformat": 4,
 "nbformat_minor": 2
}
