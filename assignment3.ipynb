{
 "cells": [
  {
   "cell_type": "markdown",
   "metadata": {},
   "source": [
    "## Instructions\n",
    "\n",
    "Write a Python function to check if a given string is a palindrome.\n",
    "\n",
    "1. **Define the Function:** Start by defining a Python function named `check_palindrome` to perform the task.\n",
    "\n",
    "2. **Function Parameters:** The function should take one parameter, `input_string`, representing the string to be checked.\n",
    "\n",
    "3. **Algorithm:** Implement an algorithm within the function to check if the string is a palindrome. A string is a palindrome when it is the same when read backwards.\n",
    "   For example, the string \"bob\" is a palindrome. So is \"abba\". But the string \"abcd\" is not a palindrome, because \"abcd\" != \"dcba\". \n",
    "\n",
    "4. **Return Value:** The function should return a boolean: True if the string is a palindrome, and False otherwise.\n",
    "\n",
    "5. **Define the input list:** Prompt the user to input a string.\n",
    "\n",
    "6. **Function Call:** Call the `check_palindrome` function with the `input_string` as the argument.\n",
    "\n",
    "7. **Output:** Print the result returned by the function."
   ]
  },
  {
   "cell_type": "code",
   "execution_count": null,
   "metadata": {},
   "outputs": [],
   "source": [
    "def check_palindrome(input_string):\n",
    "    \"\"\"Replace Your code here\"\"\"\n",
    "\n",
    "    return True\n",
    "\n",
    "\n",
    "\n",
    "\n",
    "\n",
    "\n",
    "\n",
    "    "
   ]
  },
  {
   "cell_type": "code",
   "execution_count": null,
   "metadata": {},
   "outputs": [],
   "source": [
    "# Input from User\n",
    "user_input = input(\"Enter a string to reverse: \")\n",
    "\n",
    "# Function Call\n",
    "bool_result = check_palindrome(user_input)\n",
    "\n",
    "# Output\n",
    "print(\"The strng is:\", bool_result)"
   ]
  }
 ],
 "metadata": {
  "kernelspec": {
   "display_name": ".venv",
   "language": "python",
   "name": "python3"
  },
  "language_info": {
   "codemirror_mode": {
    "name": "ipython",
    "version": 3
   },
   "file_extension": ".py",
   "mimetype": "text/x-python",
   "name": "python",
   "nbconvert_exporter": "python",
   "pygments_lexer": "ipython3",
   "version": "3.12.1"
  }
 },
 "nbformat": 4,
 "nbformat_minor": 2
}
