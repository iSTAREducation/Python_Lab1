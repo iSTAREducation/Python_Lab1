{
 "cells": [
  {
   "cell_type": "markdown",
   "metadata": {},
   "source": [
    "# HR Dataset Data Cleaning (This assignment carries 2 extra credits.)\n",
    "\n",
    "This code performs data cleaning on an HR dataset.\n",
    "\n",
    "## Instructions\n",
    "\n",
    "1. **Read the Data**: Load the data from `\"HR_5000 Records.csv\"` using the pandas library.\n",
    "\n",
    "2. **Create a Subset DataFrame**: Create a new DataFrame containing only the columns \"Emp ID,\" \"User Name,\" and \"Password.\"\n",
    "\n",
    "3. **Data Engineering**: Use a function to check if each password meets the following validity criteria:\n",
    "   - Minimum 8 characters\n",
    "   - Contains at least one special character\n",
    "   - Contains at least one number\n",
    "   - Contains at least one uppercase letter\n",
    "\n",
    "   Create a new column called `\"valid_password\"` that indicates `\"Valid\"` or `\"Invalid\"` for each entry using lambda function.\n",
    "\n",
    "4. **Data Visualization**: Create a pie chart to show the percentage of employees with a valid password.\n"
   ]
  },
  {
   "cell_type": "code",
   "execution_count": null,
   "metadata": {},
   "outputs": [],
   "source": [
    "import pandas as pd\n",
    "\n",
    "df = pd.read_csv(\"./data/HR_5000 Records.csv\")\n",
    "df.head(5)\n",
    "\n",
    "df_new = df[['Emp ID', \"User Name\", \"Password\"]].copy()\n",
    "df_new.head(5)\n",
    "\n",
    "\n"
   ]
  }
 ],
 "metadata": {
  "kernelspec": {
   "display_name": ".venv",
   "language": "python",
   "name": "python3"
  },
  "language_info": {
   "codemirror_mode": {
    "name": "ipython",
    "version": 3
   },
   "file_extension": ".py",
   "mimetype": "text/x-python",
   "name": "python",
   "nbconvert_exporter": "python",
   "pygments_lexer": "ipython3",
   "version": "3.11.9"
  }
 },
 "nbformat": 4,
 "nbformat_minor": 2
}
