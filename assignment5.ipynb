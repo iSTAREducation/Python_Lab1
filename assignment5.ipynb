{
 "cells": [
  {
   "cell_type": "markdown",
   "metadata": {},
   "source": [
    "This code defines a simple implementation of a class :HashTable in Python.\n",
    "\n",
    "## Instructions\n",
    "\n",
    "1. **Create a hash table:** Declare an empty hash table with size 10 using the `HashTable` class.\n",
    "\n",
    "2. **Insert Values:** Call the `insert` method of the `HashTable` class to insert 'key:value' pairs into the hash table. The 'key:value' pairs to be inserted are provided.\n",
    "\n",
    "    5: apple\n",
    "\n",
    "    6: orange\n",
    "\n",
    "    6: banana\n",
    "\n",
    "3. **Print Hash Table:** Print the hash table to see its contents.\n"
   ]
  },
  {
   "cell_type": "code",
   "execution_count": null,
   "metadata": {},
   "outputs": [],
   "source": [
    "class HashTable:\n",
    "    def __init__(self, size):\n",
    "        self.size = size\n",
    "        self.table = {}\n",
    "\n",
    "    def hash_function(self, key):         \n",
    "        return key % self.size\n",
    "\n",
    "    def insert(self, key, value):\n",
    "        index = self.hash_function(key)             \n",
    "        while index in self.table.keys() and self.table[index] is not None:            \n",
    "            index +=1            \n",
    "            index %= self.size                     \n",
    "        self.table[index] = value  "
   ]
  },
  {
   "cell_type": "code",
   "execution_count": null,
   "metadata": {},
   "outputs": [],
   "source": [
    "## Write your codes here\n",
    "\n",
    "\n"
   ]
  }
 ],
 "metadata": {
  "kernelspec": {
   "display_name": ".venv",
   "language": "python",
   "name": "python3"
  },
  "language_info": {
   "codemirror_mode": {
    "name": "ipython",
    "version": 3
   },
   "file_extension": ".py",
   "mimetype": "text/x-python",
   "name": "python",
   "nbconvert_exporter": "python",
   "pygments_lexer": "ipython3",
   "version": "3.12.1"
  }
 },
 "nbformat": 4,
 "nbformat_minor": 2
}
